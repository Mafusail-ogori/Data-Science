{
 "cells": [
  {
   "cell_type": "markdown",
   "metadata": {},
   "source": [
    "### Імпортування бібліотек"
   ]
  },
  {
   "cell_type": "code",
   "execution_count": 3,
   "metadata": {
    "ExecuteTime": {
     "end_time": "2024-04-06T22:39:22.789655Z",
     "start_time": "2024-04-06T22:39:22.783538Z"
    }
   },
   "outputs": [],
   "source": [
    "import pandas as pd\n",
    "from torch.utils.data import DataLoader, TensorDataset\n",
    "from sklearn.model_selection import GridSearchCV\n",
    "import torch.nn as nn\n",
    "import torch.optim as optim\n",
    "from sklearn.model_selection import train_test_split, learning_curve\n",
    "import torch\n",
    "import torch.nn.functional as F\n",
    "from sklearn.metrics import make_scorer, precision_score, classification_report\n",
    "from sklearn.neural_network import MLPClassifier\n",
    "\n",
    "import numpy as np\n",
    "import matplotlib.pyplot as plt"
   ]
  },
  {
   "cell_type": "code",
   "execution_count": 20,
   "metadata": {
    "ExecuteTime": {
     "end_time": "2024-04-06T21:46:52.496899Z",
     "start_time": "2024-04-06T21:46:52.478667Z"
    }
   },
   "outputs": [],
   "source": [
    "pd.set_option('display.max_columns', 500)\n",
    "pd.set_option('display.max_rows', 500)"
   ]
  },
  {
   "cell_type": "markdown",
   "metadata": {},
   "source": [
    "### Зчитування даних з обробленого датасету"
   ]
  },
  {
   "cell_type": "code",
   "execution_count": 5,
   "metadata": {
    "ExecuteTime": {
     "end_time": "2024-04-06T21:46:53.541653Z",
     "start_time": "2024-04-06T21:46:52.498907Z"
    }
   },
   "outputs": [
    {
     "name": "stdout",
     "output_type": "stream",
     "text": [
      "0         1\n",
      "1         1\n",
      "2         0\n",
      "3         0\n",
      "4         0\n",
      "         ..\n",
      "148665    0\n",
      "148666    0\n",
      "148667    0\n",
      "148668    0\n",
      "148669    0\n",
      "Name: Status, Length: 148670, dtype: int64\n"
     ]
    }
   ],
   "source": [
    "ds = pd.read_csv('../data/variant_1_modified.csv')\n",
    "print(ds['Status'])\n",
    "ds = ds.drop([\"ID\", \"year\", \"Upfront_charges\"], axis=\"columns\")"
   ]
  },
  {
   "cell_type": "code",
   "execution_count": 6,
   "metadata": {
    "ExecuteTime": {
     "end_time": "2024-04-06T21:46:53.581894Z",
     "start_time": "2024-04-06T21:46:53.543662Z"
    }
   },
   "outputs": [],
   "source": [
    "X = ds.drop(['Status'], axis=1)\n",
    "Y = ds['Status']"
   ]
  },
  {
   "cell_type": "markdown",
   "metadata": {},
   "source": [
    "### Розподіл даних"
   ]
  },
  {
   "cell_type": "code",
   "execution_count": 7,
   "metadata": {
    "ExecuteTime": {
     "end_time": "2024-04-06T21:46:53.650656Z",
     "start_time": "2024-04-06T21:46:53.583906Z"
    }
   },
   "outputs": [],
   "source": [
    "X_train, X_test, y_train, y_test = train_test_split(X, Y, train_size=0.8)"
   ]
  },
  {
   "cell_type": "markdown",
   "metadata": {},
   "source": [
    "### Перетворення даних на тензори для обробки нейронною мережею"
   ]
  },
  {
   "cell_type": "code",
   "execution_count": 8,
   "metadata": {
    "ExecuteTime": {
     "end_time": "2024-04-06T21:46:53.691380Z",
     "start_time": "2024-04-06T21:46:53.651662Z"
    }
   },
   "outputs": [],
   "source": [
    "X_train_tensor = torch.tensor(X_train.values, dtype=torch.float32)\n",
    "X_test_tensor = torch.tensor(X_test.values, dtype=torch.float32)\n",
    "y_train_tensor = torch.tensor(y_train.values, dtype=torch.long)\n",
    "y_test_tensor = torch.tensor(y_test.values, dtype=torch.long)\n",
    "\n",
    "# Create PyTorch datasets\n",
    "train_dataset = TensorDataset(X_train_tensor, y_train_tensor)\n",
    "test_dataset = TensorDataset(X_test_tensor, y_test_tensor)\n",
    "\n",
    "# Create PyTorch data loaders\n",
    "train_loader = DataLoader(train_dataset, batch_size=64, shuffle=True)\n",
    "test_loader = DataLoader(test_dataset, batch_size=64)"
   ]
  },
  {
   "cell_type": "markdown",
   "metadata": {},
   "source": [
    "### Оголошення нейронної мережі на основі MLP "
   ]
  },
  {
   "cell_type": "code",
   "execution_count": 9,
   "metadata": {
    "ExecuteTime": {
     "end_time": "2024-04-06T21:46:53.698992Z",
     "start_time": "2024-04-06T21:46:53.692390Z"
    }
   },
   "outputs": [],
   "source": [
    "class MLP(nn.Module):\n",
    "    def __init__(self, input_size, hidden_sizes, num_classes):\n",
    "        super(MLP, self).__init__()\n",
    "        self.input_size = input_size\n",
    "        self.hidden_sizes = hidden_sizes\n",
    "        self.num_classes = num_classes\n",
    "        \n",
    "        # Define the input layer\n",
    "        self.input_layer = nn.Linear(input_size, hidden_sizes[0])\n",
    "        \n",
    "        # Define the hidden layers\n",
    "        self.hidden_layers = nn.ModuleList()\n",
    "        for i in range(len(hidden_sizes) - 1):\n",
    "            self.hidden_layers.append(nn.Linear(hidden_sizes[i], hidden_sizes[i+1]))\n",
    "        \n",
    "        # Define the output layer\n",
    "        self.output_layer = nn.Linear(hidden_sizes[-1], num_classes)\n",
    "\n",
    "    def forward(self, x):\n",
    "        x = F.relu(self.input_layer(x))\n",
    "        for hidden_layer in self.hidden_layers:\n",
    "            x = F.relu(hidden_layer(x))\n",
    "        x = self.output_layer(x)\n",
    "        return x"
   ]
  },
  {
   "cell_type": "markdown",
   "metadata": {},
   "source": [
    "### Запис критеріону та оптимізатора"
   ]
  },
  {
   "cell_type": "code",
   "execution_count": 10,
   "metadata": {
    "ExecuteTime": {
     "end_time": "2024-04-06T21:46:53.706109Z",
     "start_time": "2024-04-06T21:46:53.700009Z"
    }
   },
   "outputs": [],
   "source": [
    "input_size = X.shape[1]  # Number of features\n",
    "hidden_size = [64]  # Specify hidden_size as a list with a single element\n",
    "num_classes = 2  # Replace 2 with the number of classes in your dataset\n",
    "model = MLP(input_size, hidden_size, num_classes)\n",
    "\n",
    "# Define loss function and optimizer\n",
    "criterion = nn.CrossEntropyLoss()\n",
    "optimizer = optim.Adam(model.parameters(), lr=0.001)"
   ]
  },
  {
   "cell_type": "markdown",
   "metadata": {},
   "source": [
    "### Тренування моделі"
   ]
  },
  {
   "cell_type": "code",
   "execution_count": 11,
   "metadata": {
    "ExecuteTime": {
     "end_time": "2024-04-06T21:48:06.601993Z",
     "start_time": "2024-04-06T21:46:53.707116Z"
    }
   },
   "outputs": [
    {
     "name": "stdout",
     "output_type": "stream",
     "text": [
      "Epoch [1/20], Loss: 381.9311\n",
      "Epoch [2/20], Loss: 73.8712\n",
      "Epoch [3/20], Loss: 57.3901\n",
      "Epoch [4/20], Loss: 49.8146\n",
      "Epoch [5/20], Loss: 36.6759\n",
      "Epoch [6/20], Loss: 34.7022\n",
      "Epoch [7/20], Loss: 29.3975\n",
      "Epoch [8/20], Loss: 24.5053\n",
      "Epoch [9/20], Loss: 20.9707\n",
      "Epoch [10/20], Loss: 19.5528\n",
      "Epoch [11/20], Loss: 18.7855\n",
      "Epoch [12/20], Loss: 15.1863\n",
      "Epoch [13/20], Loss: 14.6101\n",
      "Epoch [14/20], Loss: 11.9910\n",
      "Epoch [15/20], Loss: 9.9330\n",
      "Epoch [16/20], Loss: 9.0255\n",
      "Epoch [17/20], Loss: 5.4801\n",
      "Epoch [18/20], Loss: 2.9133\n",
      "Epoch [19/20], Loss: 1.0500\n",
      "Epoch [20/20], Loss: 0.6941\n"
     ]
    }
   ],
   "source": [
    "num_epochs = 20\n",
    "for epoch in range(num_epochs):\n",
    "    model.train()\n",
    "    running_loss = 0.0\n",
    "    for inputs, labels in train_loader:\n",
    "        optimizer.zero_grad()\n",
    "        outputs = model(inputs)\n",
    "        loss = criterion(outputs, labels)\n",
    "        loss.backward()\n",
    "        optimizer.step()\n",
    "        running_loss += loss.item() * inputs.size(0)\n",
    "    epoch_loss = running_loss / len(train_loader.dataset)\n",
    "    print(f'Epoch [{epoch+1}/{num_epochs}], Loss: {epoch_loss:.4f}')"
   ]
  },
  {
   "cell_type": "code",
   "execution_count": 12,
   "metadata": {
    "ExecuteTime": {
     "end_time": "2024-04-06T21:48:07.022717Z",
     "start_time": "2024-04-06T21:48:06.602999Z"
    }
   },
   "outputs": [
    {
     "name": "stdout",
     "output_type": "stream",
     "text": [
      "Accuracy on test set: 77.55%\n"
     ]
    }
   ],
   "source": [
    "model.eval()\n",
    "correct = 0\n",
    "total = 0\n",
    "with torch.no_grad():\n",
    "    for inputs, labels in test_loader:\n",
    "        outputs = model(inputs)\n",
    "        _, predicted = torch.max(outputs, 1)\n",
    "        total += labels.size(0)\n",
    "        correct += (predicted == labels).sum().item()\n",
    "accuracy = correct / total\n",
    "print(f'Accuracy on test set: {accuracy:.2%}')"
   ]
  },
  {
   "cell_type": "markdown",
   "metadata": {},
   "source": [
    "### Оголошення гіперпараметрів для тьюнінгу моделі"
   ]
  },
  {
   "cell_type": "code",
   "execution_count": 13,
   "metadata": {
    "ExecuteTime": {
     "end_time": "2024-04-06T22:32:58.338209Z",
     "start_time": "2024-04-06T21:48:07.024232Z"
    }
   },
   "outputs": [
    {
     "name": "stdout",
     "output_type": "stream",
     "text": [
      "Fitting 5 folds for each of 24 candidates, totalling 120 fits\n",
      "[CV 1/5] END activation=relu, alpha=0.0001, hidden_layer_sizes=(64,), learning_rate_init=0.001, solver=adam;, score=(train=0.747, test=0.753) total time=  58.3s\n",
      "[CV 2/5] END activation=relu, alpha=0.0001, hidden_layer_sizes=(64,), learning_rate_init=0.001, solver=adam;, score=(train=0.819, test=0.816) total time=  30.6s\n",
      "[CV 3/5] END activation=relu, alpha=0.0001, hidden_layer_sizes=(64,), learning_rate_init=0.001, solver=adam;, score=(train=0.681, test=0.675) total time=  35.2s\n",
      "[CV 4/5] END activation=relu, alpha=0.0001, hidden_layer_sizes=(64,), learning_rate_init=0.001, solver=adam;, score=(train=0.825, test=0.824) total time=  57.6s\n",
      "[CV 5/5] END activation=relu, alpha=0.0001, hidden_layer_sizes=(64,), learning_rate_init=0.001, solver=adam;, score=(train=0.827, test=0.826) total time= 1.1min\n",
      "[CV 1/5] END activation=relu, alpha=0.0001, hidden_layer_sizes=(64,), learning_rate_init=0.01, solver=adam;, score=(train=0.814, test=0.814) total time=  17.6s\n"
     ]
    },
    {
     "name": "stderr",
     "output_type": "stream",
     "text": [
      "c:\\Users\\dpopr\\AppData\\Local\\Programs\\Python\\Python312\\Lib\\site-packages\\sklearn\\metrics\\_classification.py:1509: UndefinedMetricWarning: Precision is ill-defined and being set to 0.0 in labels with no predicted samples. Use `zero_division` parameter to control this behavior.\n",
      "  _warn_prf(average, modifier, f\"{metric.capitalize()} is\", len(result))\n"
     ]
    },
    {
     "name": "stdout",
     "output_type": "stream",
     "text": [
      "[CV 2/5] END activation=relu, alpha=0.0001, hidden_layer_sizes=(64,), learning_rate_init=0.01, solver=adam;, score=(train=0.814, test=0.567) total time=  21.0s\n",
      "[CV 3/5] END activation=relu, alpha=0.0001, hidden_layer_sizes=(64,), learning_rate_init=0.01, solver=adam;, score=(train=0.814, test=0.567) total time=  23.7s\n"
     ]
    },
    {
     "name": "stderr",
     "output_type": "stream",
     "text": [
      "c:\\Users\\dpopr\\AppData\\Local\\Programs\\Python\\Python312\\Lib\\site-packages\\sklearn\\metrics\\_classification.py:1509: UndefinedMetricWarning: Precision is ill-defined and being set to 0.0 in labels with no predicted samples. Use `zero_division` parameter to control this behavior.\n",
      "  _warn_prf(average, modifier, f\"{metric.capitalize()} is\", len(result))\n"
     ]
    },
    {
     "name": "stdout",
     "output_type": "stream",
     "text": [
      "[CV 4/5] END activation=relu, alpha=0.0001, hidden_layer_sizes=(64,), learning_rate_init=0.01, solver=adam;, score=(train=0.814, test=0.567) total time=  22.3s\n",
      "[CV 5/5] END activation=relu, alpha=0.0001, hidden_layer_sizes=(64,), learning_rate_init=0.01, solver=adam;, score=(train=0.814, test=0.814) total time=  20.2s\n",
      "[CV 1/5] END activation=relu, alpha=0.0001, hidden_layer_sizes=(128,), learning_rate_init=0.001, solver=adam;, score=(train=0.814, test=0.813) total time=  54.0s\n",
      "[CV 2/5] END activation=relu, alpha=0.0001, hidden_layer_sizes=(128,), learning_rate_init=0.001, solver=adam;, score=(train=0.827, test=0.829) total time= 1.7min\n",
      "[CV 3/5] END activation=relu, alpha=0.0001, hidden_layer_sizes=(128,), learning_rate_init=0.001, solver=adam;, score=(train=0.805, test=0.805) total time= 1.0min\n",
      "[CV 4/5] END activation=relu, alpha=0.0001, hidden_layer_sizes=(128,), learning_rate_init=0.001, solver=adam;, score=(train=0.828, test=0.827) total time= 1.2min\n",
      "[CV 5/5] END activation=relu, alpha=0.0001, hidden_layer_sizes=(128,), learning_rate_init=0.001, solver=adam;, score=(train=0.829, test=0.829) total time= 1.2min\n",
      "[CV 1/5] END activation=relu, alpha=0.0001, hidden_layer_sizes=(128,), learning_rate_init=0.01, solver=adam;, score=(train=0.821, test=0.819) total time=  17.9s\n",
      "[CV 2/5] END activation=relu, alpha=0.0001, hidden_layer_sizes=(128,), learning_rate_init=0.01, solver=adam;, score=(train=0.814, test=0.814) total time=  19.4s\n",
      "[CV 3/5] END activation=relu, alpha=0.0001, hidden_layer_sizes=(128,), learning_rate_init=0.01, solver=adam;, score=(train=0.814, test=0.567) total time=  19.5s\n",
      "[CV 4/5] END activation=relu, alpha=0.0001, hidden_layer_sizes=(128,), learning_rate_init=0.01, solver=adam;, score=(train=0.828, test=0.829) total time=  19.0s\n",
      "[CV 5/5] END activation=relu, alpha=0.0001, hidden_layer_sizes=(128,), learning_rate_init=0.01, solver=adam;, score=(train=0.814, test=0.732) total time=  20.6s\n",
      "[CV 1/5] END activation=relu, alpha=0.001, hidden_layer_sizes=(64,), learning_rate_init=0.001, solver=adam;, score=(train=0.811, test=0.809) total time=  58.6s\n",
      "[CV 2/5] END activation=relu, alpha=0.001, hidden_layer_sizes=(64,), learning_rate_init=0.001, solver=adam;, score=(train=0.780, test=0.780) total time=  55.5s\n",
      "[CV 3/5] END activation=relu, alpha=0.001, hidden_layer_sizes=(64,), learning_rate_init=0.001, solver=adam;, score=(train=0.761, test=0.762) total time=  56.4s\n",
      "[CV 4/5] END activation=relu, alpha=0.001, hidden_layer_sizes=(64,), learning_rate_init=0.001, solver=adam;, score=(train=0.733, test=0.723) total time=  41.0s\n",
      "[CV 5/5] END activation=relu, alpha=0.001, hidden_layer_sizes=(64,), learning_rate_init=0.001, solver=adam;, score=(train=0.826, test=0.825) total time= 1.1min\n",
      "[CV 1/5] END activation=relu, alpha=0.001, hidden_layer_sizes=(64,), learning_rate_init=0.01, solver=adam;, score=(train=0.805, test=0.797) total time=  17.9s\n",
      "[CV 2/5] END activation=relu, alpha=0.001, hidden_layer_sizes=(64,), learning_rate_init=0.01, solver=adam;, score=(train=0.814, test=0.814) total time=  23.9s\n",
      "[CV 3/5] END activation=relu, alpha=0.001, hidden_layer_sizes=(64,), learning_rate_init=0.01, solver=adam;, score=(train=0.814, test=0.567) total time=  22.1s\n",
      "[CV 4/5] END activation=relu, alpha=0.001, hidden_layer_sizes=(64,), learning_rate_init=0.01, solver=adam;, score=(train=0.814, test=0.814) total time=  22.9s\n",
      "[CV 5/5] END activation=relu, alpha=0.001, hidden_layer_sizes=(64,), learning_rate_init=0.01, solver=adam;, score=(train=0.814, test=0.691) total time=  19.4s\n",
      "[CV 1/5] END activation=relu, alpha=0.001, hidden_layer_sizes=(128,), learning_rate_init=0.001, solver=adam;, score=(train=0.789, test=0.792) total time=  45.5s\n",
      "[CV 2/5] END activation=relu, alpha=0.001, hidden_layer_sizes=(128,), learning_rate_init=0.001, solver=adam;, score=(train=0.646, test=0.661) total time=  15.4s\n",
      "[CV 3/5] END activation=relu, alpha=0.001, hidden_layer_sizes=(128,), learning_rate_init=0.001, solver=adam;, score=(train=0.827, test=0.828) total time= 1.9min\n",
      "[CV 4/5] END activation=relu, alpha=0.001, hidden_layer_sizes=(128,), learning_rate_init=0.001, solver=adam;, score=(train=0.824, test=0.824) total time=  37.0s\n",
      "[CV 5/5] END activation=relu, alpha=0.001, hidden_layer_sizes=(128,), learning_rate_init=0.001, solver=adam;, score=(train=0.754, test=0.755) total time= 1.3min\n",
      "[CV 1/5] END activation=relu, alpha=0.001, hidden_layer_sizes=(128,), learning_rate_init=0.01, solver=adam;, score=(train=0.814, test=0.753) total time=  22.5s\n",
      "[CV 2/5] END activation=relu, alpha=0.001, hidden_layer_sizes=(128,), learning_rate_init=0.01, solver=adam;, score=(train=0.752, test=0.814) total time=  21.6s\n",
      "[CV 3/5] END activation=relu, alpha=0.001, hidden_layer_sizes=(128,), learning_rate_init=0.01, solver=adam;, score=(train=0.814, test=0.567) total time=  17.3s\n",
      "[CV 4/5] END activation=relu, alpha=0.001, hidden_layer_sizes=(128,), learning_rate_init=0.01, solver=adam;, score=(train=0.814, test=0.814) total time=  20.8s\n",
      "[CV 5/5] END activation=relu, alpha=0.001, hidden_layer_sizes=(128,), learning_rate_init=0.01, solver=adam;, score=(train=0.814, test=0.787) total time=  21.3s\n",
      "[CV 1/5] END activation=relu, alpha=0.01, hidden_layer_sizes=(64,), learning_rate_init=0.001, solver=adam;, score=(train=0.801, test=0.798) total time=  30.7s\n",
      "[CV 2/5] END activation=relu, alpha=0.01, hidden_layer_sizes=(64,), learning_rate_init=0.001, solver=adam;, score=(train=0.781, test=0.780) total time=  20.7s\n",
      "[CV 3/5] END activation=relu, alpha=0.01, hidden_layer_sizes=(64,), learning_rate_init=0.001, solver=adam;, score=(train=0.776, test=0.778) total time=  19.5s\n",
      "[CV 4/5] END activation=relu, alpha=0.01, hidden_layer_sizes=(64,), learning_rate_init=0.001, solver=adam;, score=(train=0.820, test=0.822) total time=  34.0s\n",
      "[CV 5/5] END activation=relu, alpha=0.01, hidden_layer_sizes=(64,), learning_rate_init=0.001, solver=adam;, score=(train=0.816, test=0.817) total time=  50.5s\n",
      "[CV 1/5] END activation=relu, alpha=0.01, hidden_layer_sizes=(64,), learning_rate_init=0.01, solver=adam;, score=(train=0.814, test=0.666) total time=  19.4s\n",
      "[CV 2/5] END activation=relu, alpha=0.01, hidden_layer_sizes=(64,), learning_rate_init=0.01, solver=adam;, score=(train=0.824, test=0.824) total time=  19.2s\n",
      "[CV 3/5] END activation=relu, alpha=0.01, hidden_layer_sizes=(64,), learning_rate_init=0.01, solver=adam;, score=(train=0.772, test=0.772) total time=  18.0s\n",
      "[CV 4/5] END activation=relu, alpha=0.01, hidden_layer_sizes=(64,), learning_rate_init=0.01, solver=adam;, score=(train=0.814, test=0.815) total time=  17.5s\n",
      "[CV 5/5] END activation=relu, alpha=0.01, hidden_layer_sizes=(64,), learning_rate_init=0.01, solver=adam;, score=(train=0.822, test=0.821) total time=  18.2s\n",
      "[CV 1/5] END activation=relu, alpha=0.01, hidden_layer_sizes=(128,), learning_rate_init=0.001, solver=adam;, score=(train=0.826, test=0.825) total time=  30.4s\n",
      "[CV 2/5] END activation=relu, alpha=0.01, hidden_layer_sizes=(128,), learning_rate_init=0.001, solver=adam;, score=(train=0.782, test=0.779) total time=  23.5s\n",
      "[CV 3/5] END activation=relu, alpha=0.01, hidden_layer_sizes=(128,), learning_rate_init=0.001, solver=adam;, score=(train=0.827, test=0.828) total time=  29.5s\n",
      "[CV 4/5] END activation=relu, alpha=0.01, hidden_layer_sizes=(128,), learning_rate_init=0.001, solver=adam;, score=(train=0.814, test=0.817) total time=  38.5s\n",
      "[CV 5/5] END activation=relu, alpha=0.01, hidden_layer_sizes=(128,), learning_rate_init=0.001, solver=adam;, score=(train=0.760, test=0.758) total time=  44.6s\n",
      "[CV 1/5] END activation=relu, alpha=0.01, hidden_layer_sizes=(128,), learning_rate_init=0.01, solver=adam;, score=(train=0.814, test=0.732) total time=  21.8s\n",
      "[CV 2/5] END activation=relu, alpha=0.01, hidden_layer_sizes=(128,), learning_rate_init=0.01, solver=adam;, score=(train=0.814, test=0.814) total time=  21.8s\n",
      "[CV 3/5] END activation=relu, alpha=0.01, hidden_layer_sizes=(128,), learning_rate_init=0.01, solver=adam;, score=(train=0.823, test=0.824) total time=  19.3s\n",
      "[CV 4/5] END activation=relu, alpha=0.01, hidden_layer_sizes=(128,), learning_rate_init=0.01, solver=adam;, score=(train=0.815, test=0.817) total time=  17.8s\n",
      "[CV 5/5] END activation=relu, alpha=0.01, hidden_layer_sizes=(128,), learning_rate_init=0.01, solver=adam;, score=(train=0.765, test=0.691) total time=  20.9s\n",
      "[CV 1/5] END activation=tanh, alpha=0.0001, hidden_layer_sizes=(64,), learning_rate_init=0.001, solver=adam;, score=(train=0.824, test=0.823) total time=  13.6s\n",
      "[CV 2/5] END activation=tanh, alpha=0.0001, hidden_layer_sizes=(64,), learning_rate_init=0.001, solver=adam;, score=(train=0.817, test=0.817) total time=  11.2s\n",
      "[CV 3/5] END activation=tanh, alpha=0.0001, hidden_layer_sizes=(64,), learning_rate_init=0.001, solver=adam;, score=(train=0.823, test=0.824) total time=  14.9s\n",
      "[CV 4/5] END activation=tanh, alpha=0.0001, hidden_layer_sizes=(64,), learning_rate_init=0.001, solver=adam;, score=(train=0.821, test=0.822) total time=  10.6s\n",
      "[CV 5/5] END activation=tanh, alpha=0.0001, hidden_layer_sizes=(64,), learning_rate_init=0.001, solver=adam;, score=(train=0.821, test=0.821) total time=  15.2s\n"
     ]
    },
    {
     "name": "stderr",
     "output_type": "stream",
     "text": [
      "c:\\Users\\dpopr\\AppData\\Local\\Programs\\Python\\Python312\\Lib\\site-packages\\sklearn\\metrics\\_classification.py:1509: UndefinedMetricWarning: Precision is ill-defined and being set to 0.0 in labels with no predicted samples. Use `zero_division` parameter to control this behavior.\n",
      "  _warn_prf(average, modifier, f\"{metric.capitalize()} is\", len(result))\n",
      "c:\\Users\\dpopr\\AppData\\Local\\Programs\\Python\\Python312\\Lib\\site-packages\\sklearn\\metrics\\_classification.py:1509: UndefinedMetricWarning: Precision is ill-defined and being set to 0.0 in labels with no predicted samples. Use `zero_division` parameter to control this behavior.\n",
      "  _warn_prf(average, modifier, f\"{metric.capitalize()} is\", len(result))\n"
     ]
    },
    {
     "name": "stdout",
     "output_type": "stream",
     "text": [
      "[CV 1/5] END activation=tanh, alpha=0.0001, hidden_layer_sizes=(64,), learning_rate_init=0.01, solver=adam;, score=(train=0.567, test=0.567) total time=  16.6s\n"
     ]
    },
    {
     "name": "stderr",
     "output_type": "stream",
     "text": [
      "c:\\Users\\dpopr\\AppData\\Local\\Programs\\Python\\Python312\\Lib\\site-packages\\sklearn\\metrics\\_classification.py:1509: UndefinedMetricWarning: Precision is ill-defined and being set to 0.0 in labels with no predicted samples. Use `zero_division` parameter to control this behavior.\n",
      "  _warn_prf(average, modifier, f\"{metric.capitalize()} is\", len(result))\n",
      "c:\\Users\\dpopr\\AppData\\Local\\Programs\\Python\\Python312\\Lib\\site-packages\\sklearn\\metrics\\_classification.py:1509: UndefinedMetricWarning: Precision is ill-defined and being set to 0.0 in labels with no predicted samples. Use `zero_division` parameter to control this behavior.\n",
      "  _warn_prf(average, modifier, f\"{metric.capitalize()} is\", len(result))\n"
     ]
    },
    {
     "name": "stdout",
     "output_type": "stream",
     "text": [
      "[CV 2/5] END activation=tanh, alpha=0.0001, hidden_layer_sizes=(64,), learning_rate_init=0.01, solver=adam;, score=(train=0.567, test=0.567) total time=  21.5s\n",
      "[CV 3/5] END activation=tanh, alpha=0.0001, hidden_layer_sizes=(64,), learning_rate_init=0.01, solver=adam;, score=(train=0.806, test=0.815) total time=  17.3s\n",
      "[CV 4/5] END activation=tanh, alpha=0.0001, hidden_layer_sizes=(64,), learning_rate_init=0.01, solver=adam;, score=(train=0.776, test=0.814) total time=   9.9s\n"
     ]
    },
    {
     "name": "stderr",
     "output_type": "stream",
     "text": [
      "c:\\Users\\dpopr\\AppData\\Local\\Programs\\Python\\Python312\\Lib\\site-packages\\sklearn\\metrics\\_classification.py:1509: UndefinedMetricWarning: Precision is ill-defined and being set to 0.0 in labels with no predicted samples. Use `zero_division` parameter to control this behavior.\n",
      "  _warn_prf(average, modifier, f\"{metric.capitalize()} is\", len(result))\n",
      "c:\\Users\\dpopr\\AppData\\Local\\Programs\\Python\\Python312\\Lib\\site-packages\\sklearn\\metrics\\_classification.py:1509: UndefinedMetricWarning: Precision is ill-defined and being set to 0.0 in labels with no predicted samples. Use `zero_division` parameter to control this behavior.\n",
      "  _warn_prf(average, modifier, f\"{metric.capitalize()} is\", len(result))\n"
     ]
    },
    {
     "name": "stdout",
     "output_type": "stream",
     "text": [
      "[CV 5/5] END activation=tanh, alpha=0.0001, hidden_layer_sizes=(64,), learning_rate_init=0.01, solver=adam;, score=(train=0.567, test=0.567) total time=  12.1s\n",
      "[CV 1/5] END activation=tanh, alpha=0.0001, hidden_layer_sizes=(128,), learning_rate_init=0.001, solver=adam;, score=(train=0.809, test=0.804) total time=  27.3s\n",
      "[CV 2/5] END activation=tanh, alpha=0.0001, hidden_layer_sizes=(128,), learning_rate_init=0.001, solver=adam;, score=(train=0.763, test=0.763) total time=  13.4s\n",
      "[CV 3/5] END activation=tanh, alpha=0.0001, hidden_layer_sizes=(128,), learning_rate_init=0.001, solver=adam;, score=(train=0.818, test=0.818) total time=  15.8s\n",
      "[CV 4/5] END activation=tanh, alpha=0.0001, hidden_layer_sizes=(128,), learning_rate_init=0.001, solver=adam;, score=(train=0.813, test=0.813) total time=  16.3s\n",
      "[CV 5/5] END activation=tanh, alpha=0.0001, hidden_layer_sizes=(128,), learning_rate_init=0.001, solver=adam;, score=(train=0.807, test=0.807) total time=  24.8s\n"
     ]
    },
    {
     "name": "stderr",
     "output_type": "stream",
     "text": [
      "c:\\Users\\dpopr\\AppData\\Local\\Programs\\Python\\Python312\\Lib\\site-packages\\sklearn\\metrics\\_classification.py:1509: UndefinedMetricWarning: Precision is ill-defined and being set to 0.0 in labels with no predicted samples. Use `zero_division` parameter to control this behavior.\n",
      "  _warn_prf(average, modifier, f\"{metric.capitalize()} is\", len(result))\n"
     ]
    },
    {
     "name": "stdout",
     "output_type": "stream",
     "text": [
      "[CV 1/5] END activation=tanh, alpha=0.0001, hidden_layer_sizes=(128,), learning_rate_init=0.01, solver=adam;, score=(train=0.567, test=0.814) total time=  20.1s\n",
      "[CV 2/5] END activation=tanh, alpha=0.0001, hidden_layer_sizes=(128,), learning_rate_init=0.01, solver=adam;, score=(train=0.802, test=0.814) total time=  21.7s\n"
     ]
    },
    {
     "name": "stderr",
     "output_type": "stream",
     "text": [
      "c:\\Users\\dpopr\\AppData\\Local\\Programs\\Python\\Python312\\Lib\\site-packages\\sklearn\\metrics\\_classification.py:1509: UndefinedMetricWarning: Precision is ill-defined and being set to 0.0 in labels with no predicted samples. Use `zero_division` parameter to control this behavior.\n",
      "  _warn_prf(average, modifier, f\"{metric.capitalize()} is\", len(result))\n",
      "c:\\Users\\dpopr\\AppData\\Local\\Programs\\Python\\Python312\\Lib\\site-packages\\sklearn\\metrics\\_classification.py:1509: UndefinedMetricWarning: Precision is ill-defined and being set to 0.0 in labels with no predicted samples. Use `zero_division` parameter to control this behavior.\n",
      "  _warn_prf(average, modifier, f\"{metric.capitalize()} is\", len(result))\n"
     ]
    },
    {
     "name": "stdout",
     "output_type": "stream",
     "text": [
      "[CV 3/5] END activation=tanh, alpha=0.0001, hidden_layer_sizes=(128,), learning_rate_init=0.01, solver=adam;, score=(train=0.567, test=0.567) total time=  33.7s\n",
      "[CV 4/5] END activation=tanh, alpha=0.0001, hidden_layer_sizes=(128,), learning_rate_init=0.01, solver=adam;, score=(train=0.815, test=0.815) total time=  18.8s\n"
     ]
    },
    {
     "name": "stderr",
     "output_type": "stream",
     "text": [
      "c:\\Users\\dpopr\\AppData\\Local\\Programs\\Python\\Python312\\Lib\\site-packages\\sklearn\\metrics\\_classification.py:1509: UndefinedMetricWarning: Precision is ill-defined and being set to 0.0 in labels with no predicted samples. Use `zero_division` parameter to control this behavior.\n",
      "  _warn_prf(average, modifier, f\"{metric.capitalize()} is\", len(result))\n",
      "c:\\Users\\dpopr\\AppData\\Local\\Programs\\Python\\Python312\\Lib\\site-packages\\sklearn\\metrics\\_classification.py:1509: UndefinedMetricWarning: Precision is ill-defined and being set to 0.0 in labels with no predicted samples. Use `zero_division` parameter to control this behavior.\n",
      "  _warn_prf(average, modifier, f\"{metric.capitalize()} is\", len(result))\n"
     ]
    },
    {
     "name": "stdout",
     "output_type": "stream",
     "text": [
      "[CV 5/5] END activation=tanh, alpha=0.0001, hidden_layer_sizes=(128,), learning_rate_init=0.01, solver=adam;, score=(train=0.567, test=0.567) total time=  11.8s\n",
      "[CV 1/5] END activation=tanh, alpha=0.001, hidden_layer_sizes=(64,), learning_rate_init=0.001, solver=adam;, score=(train=0.808, test=0.802) total time=  17.9s\n",
      "[CV 2/5] END activation=tanh, alpha=0.001, hidden_layer_sizes=(64,), learning_rate_init=0.001, solver=adam;, score=(train=0.826, test=0.823) total time=  22.5s\n",
      "[CV 3/5] END activation=tanh, alpha=0.001, hidden_layer_sizes=(64,), learning_rate_init=0.001, solver=adam;, score=(train=0.786, test=0.782) total time=  11.7s\n",
      "[CV 4/5] END activation=tanh, alpha=0.001, hidden_layer_sizes=(64,), learning_rate_init=0.001, solver=adam;, score=(train=0.817, test=0.815) total time=   8.9s\n",
      "[CV 5/5] END activation=tanh, alpha=0.001, hidden_layer_sizes=(64,), learning_rate_init=0.001, solver=adam;, score=(train=0.823, test=0.822) total time=  16.6s\n"
     ]
    },
    {
     "name": "stderr",
     "output_type": "stream",
     "text": [
      "c:\\Users\\dpopr\\AppData\\Local\\Programs\\Python\\Python312\\Lib\\site-packages\\sklearn\\metrics\\_classification.py:1509: UndefinedMetricWarning: Precision is ill-defined and being set to 0.0 in labels with no predicted samples. Use `zero_division` parameter to control this behavior.\n",
      "  _warn_prf(average, modifier, f\"{metric.capitalize()} is\", len(result))\n",
      "c:\\Users\\dpopr\\AppData\\Local\\Programs\\Python\\Python312\\Lib\\site-packages\\sklearn\\metrics\\_classification.py:1509: UndefinedMetricWarning: Precision is ill-defined and being set to 0.0 in labels with no predicted samples. Use `zero_division` parameter to control this behavior.\n",
      "  _warn_prf(average, modifier, f\"{metric.capitalize()} is\", len(result))\n"
     ]
    },
    {
     "name": "stdout",
     "output_type": "stream",
     "text": [
      "[CV 1/5] END activation=tanh, alpha=0.001, hidden_layer_sizes=(64,), learning_rate_init=0.01, solver=adam;, score=(train=0.567, test=0.567) total time=  15.1s\n"
     ]
    },
    {
     "name": "stderr",
     "output_type": "stream",
     "text": [
      "c:\\Users\\dpopr\\AppData\\Local\\Programs\\Python\\Python312\\Lib\\site-packages\\sklearn\\metrics\\_classification.py:1509: UndefinedMetricWarning: Precision is ill-defined and being set to 0.0 in labels with no predicted samples. Use `zero_division` parameter to control this behavior.\n",
      "  _warn_prf(average, modifier, f\"{metric.capitalize()} is\", len(result))\n",
      "c:\\Users\\dpopr\\AppData\\Local\\Programs\\Python\\Python312\\Lib\\site-packages\\sklearn\\metrics\\_classification.py:1509: UndefinedMetricWarning: Precision is ill-defined and being set to 0.0 in labels with no predicted samples. Use `zero_division` parameter to control this behavior.\n",
      "  _warn_prf(average, modifier, f\"{metric.capitalize()} is\", len(result))\n"
     ]
    },
    {
     "name": "stdout",
     "output_type": "stream",
     "text": [
      "[CV 2/5] END activation=tanh, alpha=0.001, hidden_layer_sizes=(64,), learning_rate_init=0.01, solver=adam;, score=(train=0.567, test=0.567) total time=  10.3s\n"
     ]
    },
    {
     "name": "stderr",
     "output_type": "stream",
     "text": [
      "c:\\Users\\dpopr\\AppData\\Local\\Programs\\Python\\Python312\\Lib\\site-packages\\sklearn\\metrics\\_classification.py:1509: UndefinedMetricWarning: Precision is ill-defined and being set to 0.0 in labels with no predicted samples. Use `zero_division` parameter to control this behavior.\n",
      "  _warn_prf(average, modifier, f\"{metric.capitalize()} is\", len(result))\n",
      "c:\\Users\\dpopr\\AppData\\Local\\Programs\\Python\\Python312\\Lib\\site-packages\\sklearn\\metrics\\_classification.py:1509: UndefinedMetricWarning: Precision is ill-defined and being set to 0.0 in labels with no predicted samples. Use `zero_division` parameter to control this behavior.\n",
      "  _warn_prf(average, modifier, f\"{metric.capitalize()} is\", len(result))\n"
     ]
    },
    {
     "name": "stdout",
     "output_type": "stream",
     "text": [
      "[CV 3/5] END activation=tanh, alpha=0.001, hidden_layer_sizes=(64,), learning_rate_init=0.01, solver=adam;, score=(train=0.567, test=0.567) total time=  10.4s\n",
      "[CV 4/5] END activation=tanh, alpha=0.001, hidden_layer_sizes=(64,), learning_rate_init=0.01, solver=adam;, score=(train=0.802, test=0.815) total time=  11.0s\n"
     ]
    },
    {
     "name": "stderr",
     "output_type": "stream",
     "text": [
      "c:\\Users\\dpopr\\AppData\\Local\\Programs\\Python\\Python312\\Lib\\site-packages\\sklearn\\metrics\\_classification.py:1509: UndefinedMetricWarning: Precision is ill-defined and being set to 0.0 in labels with no predicted samples. Use `zero_division` parameter to control this behavior.\n",
      "  _warn_prf(average, modifier, f\"{metric.capitalize()} is\", len(result))\n",
      "c:\\Users\\dpopr\\AppData\\Local\\Programs\\Python\\Python312\\Lib\\site-packages\\sklearn\\metrics\\_classification.py:1509: UndefinedMetricWarning: Precision is ill-defined and being set to 0.0 in labels with no predicted samples. Use `zero_division` parameter to control this behavior.\n",
      "  _warn_prf(average, modifier, f\"{metric.capitalize()} is\", len(result))\n"
     ]
    },
    {
     "name": "stdout",
     "output_type": "stream",
     "text": [
      "[CV 5/5] END activation=tanh, alpha=0.001, hidden_layer_sizes=(64,), learning_rate_init=0.01, solver=adam;, score=(train=0.567, test=0.567) total time=  15.8s\n",
      "[CV 1/5] END activation=tanh, alpha=0.001, hidden_layer_sizes=(128,), learning_rate_init=0.001, solver=adam;, score=(train=0.821, test=0.819) total time=  18.0s\n",
      "[CV 2/5] END activation=tanh, alpha=0.001, hidden_layer_sizes=(128,), learning_rate_init=0.001, solver=adam;, score=(train=0.826, test=0.824) total time=  17.3s\n",
      "[CV 3/5] END activation=tanh, alpha=0.001, hidden_layer_sizes=(128,), learning_rate_init=0.001, solver=adam;, score=(train=0.820, test=0.821) total time=  14.8s\n",
      "[CV 4/5] END activation=tanh, alpha=0.001, hidden_layer_sizes=(128,), learning_rate_init=0.001, solver=adam;, score=(train=0.811, test=0.811) total time=  18.2s\n",
      "[CV 5/5] END activation=tanh, alpha=0.001, hidden_layer_sizes=(128,), learning_rate_init=0.001, solver=adam;, score=(train=0.819, test=0.817) total time=  31.0s\n"
     ]
    },
    {
     "name": "stderr",
     "output_type": "stream",
     "text": [
      "c:\\Users\\dpopr\\AppData\\Local\\Programs\\Python\\Python312\\Lib\\site-packages\\sklearn\\metrics\\_classification.py:1509: UndefinedMetricWarning: Precision is ill-defined and being set to 0.0 in labels with no predicted samples. Use `zero_division` parameter to control this behavior.\n",
      "  _warn_prf(average, modifier, f\"{metric.capitalize()} is\", len(result))\n",
      "c:\\Users\\dpopr\\AppData\\Local\\Programs\\Python\\Python312\\Lib\\site-packages\\sklearn\\metrics\\_classification.py:1509: UndefinedMetricWarning: Precision is ill-defined and being set to 0.0 in labels with no predicted samples. Use `zero_division` parameter to control this behavior.\n",
      "  _warn_prf(average, modifier, f\"{metric.capitalize()} is\", len(result))\n"
     ]
    },
    {
     "name": "stdout",
     "output_type": "stream",
     "text": [
      "[CV 1/5] END activation=tanh, alpha=0.001, hidden_layer_sizes=(128,), learning_rate_init=0.01, solver=adam;, score=(train=0.567, test=0.567) total time=  13.5s\n"
     ]
    },
    {
     "name": "stderr",
     "output_type": "stream",
     "text": [
      "c:\\Users\\dpopr\\AppData\\Local\\Programs\\Python\\Python312\\Lib\\site-packages\\sklearn\\metrics\\_classification.py:1509: UndefinedMetricWarning: Precision is ill-defined and being set to 0.0 in labels with no predicted samples. Use `zero_division` parameter to control this behavior.\n",
      "  _warn_prf(average, modifier, f\"{metric.capitalize()} is\", len(result))\n",
      "c:\\Users\\dpopr\\AppData\\Local\\Programs\\Python\\Python312\\Lib\\site-packages\\sklearn\\metrics\\_classification.py:1509: UndefinedMetricWarning: Precision is ill-defined and being set to 0.0 in labels with no predicted samples. Use `zero_division` parameter to control this behavior.\n",
      "  _warn_prf(average, modifier, f\"{metric.capitalize()} is\", len(result))\n"
     ]
    },
    {
     "name": "stdout",
     "output_type": "stream",
     "text": [
      "[CV 2/5] END activation=tanh, alpha=0.001, hidden_layer_sizes=(128,), learning_rate_init=0.01, solver=adam;, score=(train=0.567, test=0.567) total time=  12.1s\n",
      "[CV 3/5] END activation=tanh, alpha=0.001, hidden_layer_sizes=(128,), learning_rate_init=0.01, solver=adam;, score=(train=0.804, test=0.815) total time=  18.6s\n",
      "[CV 4/5] END activation=tanh, alpha=0.001, hidden_layer_sizes=(128,), learning_rate_init=0.01, solver=adam;, score=(train=0.800, test=0.814) total time=  11.5s\n"
     ]
    },
    {
     "name": "stderr",
     "output_type": "stream",
     "text": [
      "c:\\Users\\dpopr\\AppData\\Local\\Programs\\Python\\Python312\\Lib\\site-packages\\sklearn\\metrics\\_classification.py:1509: UndefinedMetricWarning: Precision is ill-defined and being set to 0.0 in labels with no predicted samples. Use `zero_division` parameter to control this behavior.\n",
      "  _warn_prf(average, modifier, f\"{metric.capitalize()} is\", len(result))\n",
      "c:\\Users\\dpopr\\AppData\\Local\\Programs\\Python\\Python312\\Lib\\site-packages\\sklearn\\metrics\\_classification.py:1509: UndefinedMetricWarning: Precision is ill-defined and being set to 0.0 in labels with no predicted samples. Use `zero_division` parameter to control this behavior.\n",
      "  _warn_prf(average, modifier, f\"{metric.capitalize()} is\", len(result))\n"
     ]
    },
    {
     "name": "stdout",
     "output_type": "stream",
     "text": [
      "[CV 5/5] END activation=tanh, alpha=0.001, hidden_layer_sizes=(128,), learning_rate_init=0.01, solver=adam;, score=(train=0.567, test=0.567) total time=  22.3s\n",
      "[CV 1/5] END activation=tanh, alpha=0.01, hidden_layer_sizes=(64,), learning_rate_init=0.001, solver=adam;, score=(train=0.824, test=0.824) total time=   9.6s\n",
      "[CV 2/5] END activation=tanh, alpha=0.01, hidden_layer_sizes=(64,), learning_rate_init=0.001, solver=adam;, score=(train=0.818, test=0.818) total time=  13.4s\n",
      "[CV 3/5] END activation=tanh, alpha=0.01, hidden_layer_sizes=(64,), learning_rate_init=0.001, solver=adam;, score=(train=0.804, test=0.806) total time=  13.7s\n",
      "[CV 4/5] END activation=tanh, alpha=0.01, hidden_layer_sizes=(64,), learning_rate_init=0.001, solver=adam;, score=(train=0.746, test=0.748) total time=  15.0s\n",
      "[CV 5/5] END activation=tanh, alpha=0.01, hidden_layer_sizes=(64,), learning_rate_init=0.001, solver=adam;, score=(train=0.826, test=0.826) total time=  22.1s\n"
     ]
    },
    {
     "name": "stderr",
     "output_type": "stream",
     "text": [
      "c:\\Users\\dpopr\\AppData\\Local\\Programs\\Python\\Python312\\Lib\\site-packages\\sklearn\\metrics\\_classification.py:1509: UndefinedMetricWarning: Precision is ill-defined and being set to 0.0 in labels with no predicted samples. Use `zero_division` parameter to control this behavior.\n",
      "  _warn_prf(average, modifier, f\"{metric.capitalize()} is\", len(result))\n",
      "c:\\Users\\dpopr\\AppData\\Local\\Programs\\Python\\Python312\\Lib\\site-packages\\sklearn\\metrics\\_classification.py:1509: UndefinedMetricWarning: Precision is ill-defined and being set to 0.0 in labels with no predicted samples. Use `zero_division` parameter to control this behavior.\n",
      "  _warn_prf(average, modifier, f\"{metric.capitalize()} is\", len(result))\n"
     ]
    },
    {
     "name": "stdout",
     "output_type": "stream",
     "text": [
      "[CV 1/5] END activation=tanh, alpha=0.01, hidden_layer_sizes=(64,), learning_rate_init=0.01, solver=adam;, score=(train=0.567, test=0.567) total time=   9.3s\n"
     ]
    },
    {
     "name": "stderr",
     "output_type": "stream",
     "text": [
      "c:\\Users\\dpopr\\AppData\\Local\\Programs\\Python\\Python312\\Lib\\site-packages\\sklearn\\metrics\\_classification.py:1509: UndefinedMetricWarning: Precision is ill-defined and being set to 0.0 in labels with no predicted samples. Use `zero_division` parameter to control this behavior.\n",
      "  _warn_prf(average, modifier, f\"{metric.capitalize()} is\", len(result))\n",
      "c:\\Users\\dpopr\\AppData\\Local\\Programs\\Python\\Python312\\Lib\\site-packages\\sklearn\\metrics\\_classification.py:1509: UndefinedMetricWarning: Precision is ill-defined and being set to 0.0 in labels with no predicted samples. Use `zero_division` parameter to control this behavior.\n",
      "  _warn_prf(average, modifier, f\"{metric.capitalize()} is\", len(result))\n"
     ]
    },
    {
     "name": "stdout",
     "output_type": "stream",
     "text": [
      "[CV 2/5] END activation=tanh, alpha=0.01, hidden_layer_sizes=(64,), learning_rate_init=0.01, solver=adam;, score=(train=0.567, test=0.567) total time=   9.4s\n"
     ]
    },
    {
     "name": "stderr",
     "output_type": "stream",
     "text": [
      "c:\\Users\\dpopr\\AppData\\Local\\Programs\\Python\\Python312\\Lib\\site-packages\\sklearn\\metrics\\_classification.py:1509: UndefinedMetricWarning: Precision is ill-defined and being set to 0.0 in labels with no predicted samples. Use `zero_division` parameter to control this behavior.\n",
      "  _warn_prf(average, modifier, f\"{metric.capitalize()} is\", len(result))\n",
      "c:\\Users\\dpopr\\AppData\\Local\\Programs\\Python\\Python312\\Lib\\site-packages\\sklearn\\metrics\\_classification.py:1509: UndefinedMetricWarning: Precision is ill-defined and being set to 0.0 in labels with no predicted samples. Use `zero_division` parameter to control this behavior.\n",
      "  _warn_prf(average, modifier, f\"{metric.capitalize()} is\", len(result))\n"
     ]
    },
    {
     "name": "stdout",
     "output_type": "stream",
     "text": [
      "[CV 3/5] END activation=tanh, alpha=0.01, hidden_layer_sizes=(64,), learning_rate_init=0.01, solver=adam;, score=(train=0.567, test=0.567) total time=  16.2s\n"
     ]
    },
    {
     "name": "stderr",
     "output_type": "stream",
     "text": [
      "c:\\Users\\dpopr\\AppData\\Local\\Programs\\Python\\Python312\\Lib\\site-packages\\sklearn\\metrics\\_classification.py:1509: UndefinedMetricWarning: Precision is ill-defined and being set to 0.0 in labels with no predicted samples. Use `zero_division` parameter to control this behavior.\n",
      "  _warn_prf(average, modifier, f\"{metric.capitalize()} is\", len(result))\n",
      "c:\\Users\\dpopr\\AppData\\Local\\Programs\\Python\\Python312\\Lib\\site-packages\\sklearn\\metrics\\_classification.py:1509: UndefinedMetricWarning: Precision is ill-defined and being set to 0.0 in labels with no predicted samples. Use `zero_division` parameter to control this behavior.\n",
      "  _warn_prf(average, modifier, f\"{metric.capitalize()} is\", len(result))\n"
     ]
    },
    {
     "name": "stdout",
     "output_type": "stream",
     "text": [
      "[CV 4/5] END activation=tanh, alpha=0.01, hidden_layer_sizes=(64,), learning_rate_init=0.01, solver=adam;, score=(train=0.567, test=0.567) total time=  11.1s\n"
     ]
    },
    {
     "name": "stderr",
     "output_type": "stream",
     "text": [
      "c:\\Users\\dpopr\\AppData\\Local\\Programs\\Python\\Python312\\Lib\\site-packages\\sklearn\\metrics\\_classification.py:1509: UndefinedMetricWarning: Precision is ill-defined and being set to 0.0 in labels with no predicted samples. Use `zero_division` parameter to control this behavior.\n",
      "  _warn_prf(average, modifier, f\"{metric.capitalize()} is\", len(result))\n",
      "c:\\Users\\dpopr\\AppData\\Local\\Programs\\Python\\Python312\\Lib\\site-packages\\sklearn\\metrics\\_classification.py:1509: UndefinedMetricWarning: Precision is ill-defined and being set to 0.0 in labels with no predicted samples. Use `zero_division` parameter to control this behavior.\n",
      "  _warn_prf(average, modifier, f\"{metric.capitalize()} is\", len(result))\n"
     ]
    },
    {
     "name": "stdout",
     "output_type": "stream",
     "text": [
      "[CV 5/5] END activation=tanh, alpha=0.01, hidden_layer_sizes=(64,), learning_rate_init=0.01, solver=adam;, score=(train=0.567, test=0.567) total time=  15.7s\n",
      "[CV 1/5] END activation=tanh, alpha=0.01, hidden_layer_sizes=(128,), learning_rate_init=0.001, solver=adam;, score=(train=0.816, test=0.815) total time=  12.1s\n",
      "[CV 2/5] END activation=tanh, alpha=0.01, hidden_layer_sizes=(128,), learning_rate_init=0.001, solver=adam;, score=(train=0.822, test=0.821) total time=  25.5s\n",
      "[CV 3/5] END activation=tanh, alpha=0.01, hidden_layer_sizes=(128,), learning_rate_init=0.001, solver=adam;, score=(train=0.825, test=0.825) total time=  15.6s\n",
      "[CV 4/5] END activation=tanh, alpha=0.01, hidden_layer_sizes=(128,), learning_rate_init=0.001, solver=adam;, score=(train=0.814, test=0.816) total time=  13.1s\n",
      "[CV 5/5] END activation=tanh, alpha=0.01, hidden_layer_sizes=(128,), learning_rate_init=0.001, solver=adam;, score=(train=0.817, test=0.815) total time=  23.1s\n"
     ]
    },
    {
     "name": "stderr",
     "output_type": "stream",
     "text": [
      "c:\\Users\\dpopr\\AppData\\Local\\Programs\\Python\\Python312\\Lib\\site-packages\\sklearn\\metrics\\_classification.py:1509: UndefinedMetricWarning: Precision is ill-defined and being set to 0.0 in labels with no predicted samples. Use `zero_division` parameter to control this behavior.\n",
      "  _warn_prf(average, modifier, f\"{metric.capitalize()} is\", len(result))\n",
      "c:\\Users\\dpopr\\AppData\\Local\\Programs\\Python\\Python312\\Lib\\site-packages\\sklearn\\metrics\\_classification.py:1509: UndefinedMetricWarning: Precision is ill-defined and being set to 0.0 in labels with no predicted samples. Use `zero_division` parameter to control this behavior.\n",
      "  _warn_prf(average, modifier, f\"{metric.capitalize()} is\", len(result))\n"
     ]
    },
    {
     "name": "stdout",
     "output_type": "stream",
     "text": [
      "[CV 1/5] END activation=tanh, alpha=0.01, hidden_layer_sizes=(128,), learning_rate_init=0.01, solver=adam;, score=(train=0.567, test=0.567) total time=  17.7s\n",
      "[CV 2/5] END activation=tanh, alpha=0.01, hidden_layer_sizes=(128,), learning_rate_init=0.01, solver=adam;, score=(train=0.796, test=0.814) total time=  19.8s\n",
      "[CV 3/5] END activation=tanh, alpha=0.01, hidden_layer_sizes=(128,), learning_rate_init=0.01, solver=adam;, score=(train=0.807, test=0.815) total time=  16.9s\n"
     ]
    },
    {
     "name": "stderr",
     "output_type": "stream",
     "text": [
      "c:\\Users\\dpopr\\AppData\\Local\\Programs\\Python\\Python312\\Lib\\site-packages\\sklearn\\metrics\\_classification.py:1509: UndefinedMetricWarning: Precision is ill-defined and being set to 0.0 in labels with no predicted samples. Use `zero_division` parameter to control this behavior.\n",
      "  _warn_prf(average, modifier, f\"{metric.capitalize()} is\", len(result))\n",
      "c:\\Users\\dpopr\\AppData\\Local\\Programs\\Python\\Python312\\Lib\\site-packages\\sklearn\\metrics\\_classification.py:1509: UndefinedMetricWarning: Precision is ill-defined and being set to 0.0 in labels with no predicted samples. Use `zero_division` parameter to control this behavior.\n",
      "  _warn_prf(average, modifier, f\"{metric.capitalize()} is\", len(result))\n"
     ]
    },
    {
     "name": "stdout",
     "output_type": "stream",
     "text": [
      "[CV 4/5] END activation=tanh, alpha=0.01, hidden_layer_sizes=(128,), learning_rate_init=0.01, solver=adam;, score=(train=0.567, test=0.567) total time=  22.4s\n"
     ]
    },
    {
     "name": "stderr",
     "output_type": "stream",
     "text": [
      "c:\\Users\\dpopr\\AppData\\Local\\Programs\\Python\\Python312\\Lib\\site-packages\\sklearn\\metrics\\_classification.py:1509: UndefinedMetricWarning: Precision is ill-defined and being set to 0.0 in labels with no predicted samples. Use `zero_division` parameter to control this behavior.\n",
      "  _warn_prf(average, modifier, f\"{metric.capitalize()} is\", len(result))\n",
      "c:\\Users\\dpopr\\AppData\\Local\\Programs\\Python\\Python312\\Lib\\site-packages\\sklearn\\metrics\\_classification.py:1509: UndefinedMetricWarning: Precision is ill-defined and being set to 0.0 in labels with no predicted samples. Use `zero_division` parameter to control this behavior.\n",
      "  _warn_prf(average, modifier, f\"{metric.capitalize()} is\", len(result))\n"
     ]
    },
    {
     "name": "stdout",
     "output_type": "stream",
     "text": [
      "[CV 5/5] END activation=tanh, alpha=0.01, hidden_layer_sizes=(128,), learning_rate_init=0.01, solver=adam;, score=(train=0.567, test=0.567) total time=  26.6s\n",
      "The best parameters are {'activation': 'tanh', 'alpha': 0.0001, 'hidden_layer_sizes': (64,), 'learning_rate_init': 0.001, 'solver': 'adam'} with a score of 0.82\n"
     ]
    }
   ],
   "source": [
    "param_grid = {\n",
    "    'hidden_layer_sizes': [(64,), (128,)],  # Define different hidden layer sizes\n",
    "    'activation': ['relu', 'tanh'],  # Activation function options\n",
    "    'solver': ['adam'],  # Optimization algorithm\n",
    "    'alpha': [0.0001, 0.001, 0.01],  # Regularization parameter\n",
    "    'learning_rate_init': [0.001, 0.01],  # Initial learning rate\n",
    "}\n",
    "\n",
    "# Define precision scorer\n",
    "precision_scorer = make_scorer(precision_score, average='weighted')\n",
    "\n",
    "# Instantiate MLP classifier\n",
    "mlp = MLPClassifier()\n",
    "\n",
    "# Create GridSearchCV object\n",
    "grid = GridSearchCV(estimator=mlp,\n",
    "                    param_grid=param_grid,\n",
    "                    scoring=precision_scorer,  # Use custom precision scorer\n",
    "                    cv=5,  # Number of cross-validation folds\n",
    "                    verbose=3,  # Verbosity level\n",
    "                    return_train_score=True)\n",
    "\n",
    "# Fit the grid search to the training data\n",
    "grid.fit(X_train, y_train)\n",
    "\n",
    "# Print the best parameters and best score\n",
    "print(\"The best parameters are %s with a score of %0.2f\"\n",
    "      % (grid.best_params_, grid.best_score_))"
   ]
  },
  {
   "cell_type": "code",
   "execution_count": 14,
   "metadata": {
    "ExecuteTime": {
     "end_time": "2024-04-06T22:33:41.750505Z",
     "start_time": "2024-04-06T22:33:41.730731Z"
    }
   },
   "outputs": [
    {
     "data": {
      "text/html": [
       "<div>\n",
       "<style scoped>\n",
       "    .dataframe tbody tr th:only-of-type {\n",
       "        vertical-align: middle;\n",
       "    }\n",
       "\n",
       "    .dataframe tbody tr th {\n",
       "        vertical-align: top;\n",
       "    }\n",
       "\n",
       "    .dataframe thead th {\n",
       "        text-align: right;\n",
       "    }\n",
       "</style>\n",
       "<table border=\"1\" class=\"dataframe\">\n",
       "  <thead>\n",
       "    <tr style=\"text-align: right;\">\n",
       "      <th></th>\n",
       "      <th>activation</th>\n",
       "      <th>alpha</th>\n",
       "      <th>hidden_layer_sizes</th>\n",
       "      <th>learning_rate_init</th>\n",
       "      <th>solver</th>\n",
       "      <th>precision</th>\n",
       "    </tr>\n",
       "  </thead>\n",
       "  <tbody>\n",
       "    <tr>\n",
       "      <th>0</th>\n",
       "      <td>relu</td>\n",
       "      <td>0.0001</td>\n",
       "      <td>(64,)</td>\n",
       "      <td>0.001</td>\n",
       "      <td>adam</td>\n",
       "      <td>0.778664</td>\n",
       "    </tr>\n",
       "    <tr>\n",
       "      <th>1</th>\n",
       "      <td>relu</td>\n",
       "      <td>0.0001</td>\n",
       "      <td>(64,)</td>\n",
       "      <td>0.010</td>\n",
       "      <td>adam</td>\n",
       "      <td>0.666162</td>\n",
       "    </tr>\n",
       "    <tr>\n",
       "      <th>2</th>\n",
       "      <td>relu</td>\n",
       "      <td>0.0001</td>\n",
       "      <td>(128,)</td>\n",
       "      <td>0.001</td>\n",
       "      <td>adam</td>\n",
       "      <td>0.820719</td>\n",
       "    </tr>\n",
       "    <tr>\n",
       "      <th>3</th>\n",
       "      <td>relu</td>\n",
       "      <td>0.0001</td>\n",
       "      <td>(128,)</td>\n",
       "      <td>0.010</td>\n",
       "      <td>adam</td>\n",
       "      <td>0.752418</td>\n",
       "    </tr>\n",
       "    <tr>\n",
       "      <th>4</th>\n",
       "      <td>relu</td>\n",
       "      <td>0.0010</td>\n",
       "      <td>(64,)</td>\n",
       "      <td>0.001</td>\n",
       "      <td>adam</td>\n",
       "      <td>0.779765</td>\n",
       "    </tr>\n",
       "    <tr>\n",
       "      <th>5</th>\n",
       "      <td>relu</td>\n",
       "      <td>0.0010</td>\n",
       "      <td>(64,)</td>\n",
       "      <td>0.010</td>\n",
       "      <td>adam</td>\n",
       "      <td>0.736841</td>\n",
       "    </tr>\n",
       "    <tr>\n",
       "      <th>6</th>\n",
       "      <td>relu</td>\n",
       "      <td>0.0010</td>\n",
       "      <td>(128,)</td>\n",
       "      <td>0.001</td>\n",
       "      <td>adam</td>\n",
       "      <td>0.771991</td>\n",
       "    </tr>\n",
       "    <tr>\n",
       "      <th>7</th>\n",
       "      <td>relu</td>\n",
       "      <td>0.0010</td>\n",
       "      <td>(128,)</td>\n",
       "      <td>0.010</td>\n",
       "      <td>adam</td>\n",
       "      <td>0.747083</td>\n",
       "    </tr>\n",
       "    <tr>\n",
       "      <th>8</th>\n",
       "      <td>relu</td>\n",
       "      <td>0.0100</td>\n",
       "      <td>(64,)</td>\n",
       "      <td>0.001</td>\n",
       "      <td>adam</td>\n",
       "      <td>0.799053</td>\n",
       "    </tr>\n",
       "    <tr>\n",
       "      <th>9</th>\n",
       "      <td>relu</td>\n",
       "      <td>0.0100</td>\n",
       "      <td>(64,)</td>\n",
       "      <td>0.010</td>\n",
       "      <td>adam</td>\n",
       "      <td>0.779412</td>\n",
       "    </tr>\n",
       "    <tr>\n",
       "      <th>10</th>\n",
       "      <td>relu</td>\n",
       "      <td>0.0100</td>\n",
       "      <td>(128,)</td>\n",
       "      <td>0.001</td>\n",
       "      <td>adam</td>\n",
       "      <td>0.801411</td>\n",
       "    </tr>\n",
       "    <tr>\n",
       "      <th>11</th>\n",
       "      <td>relu</td>\n",
       "      <td>0.0100</td>\n",
       "      <td>(128,)</td>\n",
       "      <td>0.010</td>\n",
       "      <td>adam</td>\n",
       "      <td>0.775515</td>\n",
       "    </tr>\n",
       "    <tr>\n",
       "      <th>12</th>\n",
       "      <td>tanh</td>\n",
       "      <td>0.0001</td>\n",
       "      <td>(64,)</td>\n",
       "      <td>0.001</td>\n",
       "      <td>adam</td>\n",
       "      <td>0.821315</td>\n",
       "    </tr>\n",
       "    <tr>\n",
       "      <th>13</th>\n",
       "      <td>tanh</td>\n",
       "      <td>0.0001</td>\n",
       "      <td>(64,)</td>\n",
       "      <td>0.010</td>\n",
       "      <td>adam</td>\n",
       "      <td>0.666289</td>\n",
       "    </tr>\n",
       "    <tr>\n",
       "      <th>14</th>\n",
       "      <td>tanh</td>\n",
       "      <td>0.0001</td>\n",
       "      <td>(128,)</td>\n",
       "      <td>0.001</td>\n",
       "      <td>adam</td>\n",
       "      <td>0.800959</td>\n",
       "    </tr>\n",
       "    <tr>\n",
       "      <th>15</th>\n",
       "      <td>tanh</td>\n",
       "      <td>0.0001</td>\n",
       "      <td>(128,)</td>\n",
       "      <td>0.010</td>\n",
       "      <td>adam</td>\n",
       "      <td>0.715605</td>\n",
       "    </tr>\n",
       "    <tr>\n",
       "      <th>16</th>\n",
       "      <td>tanh</td>\n",
       "      <td>0.0010</td>\n",
       "      <td>(64,)</td>\n",
       "      <td>0.001</td>\n",
       "      <td>adam</td>\n",
       "      <td>0.808833</td>\n",
       "    </tr>\n",
       "    <tr>\n",
       "      <th>17</th>\n",
       "      <td>tanh</td>\n",
       "      <td>0.0010</td>\n",
       "      <td>(64,)</td>\n",
       "      <td>0.010</td>\n",
       "      <td>adam</td>\n",
       "      <td>0.616857</td>\n",
       "    </tr>\n",
       "    <tr>\n",
       "      <th>18</th>\n",
       "      <td>tanh</td>\n",
       "      <td>0.0010</td>\n",
       "      <td>(128,)</td>\n",
       "      <td>0.001</td>\n",
       "      <td>adam</td>\n",
       "      <td>0.818670</td>\n",
       "    </tr>\n",
       "    <tr>\n",
       "      <th>19</th>\n",
       "      <td>tanh</td>\n",
       "      <td>0.0010</td>\n",
       "      <td>(128,)</td>\n",
       "      <td>0.010</td>\n",
       "      <td>adam</td>\n",
       "      <td>0.666289</td>\n",
       "    </tr>\n",
       "    <tr>\n",
       "      <th>20</th>\n",
       "      <td>tanh</td>\n",
       "      <td>0.0100</td>\n",
       "      <td>(64,)</td>\n",
       "      <td>0.001</td>\n",
       "      <td>adam</td>\n",
       "      <td>0.804367</td>\n",
       "    </tr>\n",
       "    <tr>\n",
       "      <th>21</th>\n",
       "      <td>tanh</td>\n",
       "      <td>0.0100</td>\n",
       "      <td>(64,)</td>\n",
       "      <td>0.010</td>\n",
       "      <td>adam</td>\n",
       "      <td>0.567429</td>\n",
       "    </tr>\n",
       "    <tr>\n",
       "      <th>22</th>\n",
       "      <td>tanh</td>\n",
       "      <td>0.0100</td>\n",
       "      <td>(128,)</td>\n",
       "      <td>0.001</td>\n",
       "      <td>adam</td>\n",
       "      <td>0.818596</td>\n",
       "    </tr>\n",
       "    <tr>\n",
       "      <th>23</th>\n",
       "      <td>tanh</td>\n",
       "      <td>0.0100</td>\n",
       "      <td>(128,)</td>\n",
       "      <td>0.010</td>\n",
       "      <td>adam</td>\n",
       "      <td>0.666294</td>\n",
       "    </tr>\n",
       "  </tbody>\n",
       "</table>\n",
       "</div>"
      ],
      "text/plain": [
       "   activation   alpha hidden_layer_sizes  learning_rate_init solver  precision\n",
       "0        relu  0.0001              (64,)               0.001   adam   0.778664\n",
       "1        relu  0.0001              (64,)               0.010   adam   0.666162\n",
       "2        relu  0.0001             (128,)               0.001   adam   0.820719\n",
       "3        relu  0.0001             (128,)               0.010   adam   0.752418\n",
       "4        relu  0.0010              (64,)               0.001   adam   0.779765\n",
       "5        relu  0.0010              (64,)               0.010   adam   0.736841\n",
       "6        relu  0.0010             (128,)               0.001   adam   0.771991\n",
       "7        relu  0.0010             (128,)               0.010   adam   0.747083\n",
       "8        relu  0.0100              (64,)               0.001   adam   0.799053\n",
       "9        relu  0.0100              (64,)               0.010   adam   0.779412\n",
       "10       relu  0.0100             (128,)               0.001   adam   0.801411\n",
       "11       relu  0.0100             (128,)               0.010   adam   0.775515\n",
       "12       tanh  0.0001              (64,)               0.001   adam   0.821315\n",
       "13       tanh  0.0001              (64,)               0.010   adam   0.666289\n",
       "14       tanh  0.0001             (128,)               0.001   adam   0.800959\n",
       "15       tanh  0.0001             (128,)               0.010   adam   0.715605\n",
       "16       tanh  0.0010              (64,)               0.001   adam   0.808833\n",
       "17       tanh  0.0010              (64,)               0.010   adam   0.616857\n",
       "18       tanh  0.0010             (128,)               0.001   adam   0.818670\n",
       "19       tanh  0.0010             (128,)               0.010   adam   0.666289\n",
       "20       tanh  0.0100              (64,)               0.001   adam   0.804367\n",
       "21       tanh  0.0100              (64,)               0.010   adam   0.567429\n",
       "22       tanh  0.0100             (128,)               0.001   adam   0.818596\n",
       "23       tanh  0.0100             (128,)               0.010   adam   0.666294"
      ]
     },
     "execution_count": 14,
     "metadata": {},
     "output_type": "execute_result"
    }
   ],
   "source": [
    "grid_results = pd.concat([pd.DataFrame(grid.cv_results_[\"params\"]),\n",
    "                          pd.DataFrame(grid.cv_results_[\"mean_test_score\"], \n",
    "                          columns=[\"precision\"])],\n",
    "                          axis=1)\n",
    "\n",
    "grid_results"
   ]
  },
  {
   "cell_type": "code",
   "execution_count": 15,
   "metadata": {
    "ExecuteTime": {
     "end_time": "2024-04-06T22:34:14.286158Z",
     "start_time": "2024-04-06T22:34:14.281114Z"
    }
   },
   "outputs": [
    {
     "data": {
      "text/plain": [
       "Index(['activation', 'alpha', 'hidden_layer_sizes', 'learning_rate_init',\n",
       "       'solver', 'precision'],\n",
       "      dtype='object')"
      ]
     },
     "execution_count": 15,
     "metadata": {},
     "output_type": "execute_result"
    }
   ],
   "source": [
    "grid_results.columns"
   ]
  },
  {
   "cell_type": "markdown",
   "metadata": {},
   "source": [
    "### Запуск моделі на основі сформованих гіперпараметрів"
   ]
  },
  {
   "cell_type": "code",
   "execution_count": 18,
   "metadata": {
    "ExecuteTime": {
     "end_time": "2024-04-06T22:39:48.149821Z",
     "start_time": "2024-04-06T22:39:31.947693Z"
    }
   },
   "outputs": [
    {
     "name": "stdout",
     "output_type": "stream",
     "text": [
      "              precision    recall  f1-score   support\n",
      "\n",
      "           0       0.77      1.00      0.87     22439\n",
      "           1       0.99      0.07      0.13      7295\n",
      "\n",
      "    accuracy                           0.77     29734\n",
      "   macro avg       0.88      0.54      0.50     29734\n",
      "weighted avg       0.82      0.77      0.69     29734\n",
      "\n"
     ]
    }
   ],
   "source": [
    "mlp = MLPClassifier(alpha=0.0001, hidden_layer_sizes=64, learning_rate_init=0.001, solver='adam', activation='tanh', max_iter=100)\n",
    "\n",
    "mlp.fit(X_train, y_train)\n",
    "\n",
    "# Evaluate the model\n",
    "y_pred = mlp.predict(X_test)\n",
    "\n",
    "# Print classification report\n",
    "print(classification_report(y_test, y_pred))\n"
   ]
  },
  {
   "cell_type": "markdown",
   "metadata": {},
   "source": [
    "Можемо зробити висновок, що після тьюнінгу моделі ми змогли досягти значно вищої точності"
   ]
  },
  {
   "cell_type": "code",
   "execution_count": 19,
   "metadata": {},
   "outputs": [
    {
     "name": "stderr",
     "output_type": "stream",
     "text": [
      "c:\\Users\\dpopr\\AppData\\Local\\Programs\\Python\\Python312\\Lib\\site-packages\\sklearn\\neural_network\\_multilayer_perceptron.py:691: ConvergenceWarning: Stochastic Optimizer: Maximum iterations (100) reached and the optimization hasn't converged yet.\n",
      "  warnings.warn(\n",
      "c:\\Users\\dpopr\\AppData\\Local\\Programs\\Python\\Python312\\Lib\\site-packages\\sklearn\\neural_network\\_multilayer_perceptron.py:691: ConvergenceWarning: Stochastic Optimizer: Maximum iterations (100) reached and the optimization hasn't converged yet.\n",
      "  warnings.warn(\n"
     ]
    },
    {
     "data": {
      "image/png": "[encoded data removed]",
      "text/plain": [
       "<Figure size 1000x600 with 1 Axes>"
      ]
     },
     "metadata": {},
     "output_type": "display_data"
    }
   ],
   "source": [
    "train_sizes, train_scores, test_scores = learning_curve(mlp, X_train_tensor, y_train_tensor, cv=5, scoring='accuracy', train_sizes=np.linspace(0.1, 1.0, 10))\n",
    "\n",
    "train_scores_mean = np.mean(train_scores, axis=1)\n",
    "train_scores_std = np.std(train_scores, axis=1)\n",
    "test_scores_mean = np.mean(test_scores, axis=1)\n",
    "test_scores_std = np.std(test_scores, axis=1)\n",
    "\n",
    "plt.figure(figsize=(10, 6))\n",
    "plt.fill_between(train_sizes, train_scores_mean - train_scores_std, train_scores_mean + train_scores_std, alpha=0.1, color=\"r\")\n",
    "plt.fill_between(train_sizes, test_scores_mean - test_scores_std, test_scores_mean + test_scores_std, alpha=0.1, color=\"g\")\n",
    "plt.plot(train_sizes, train_scores_mean, 'o-', color=\"r\", label=\"Training accuracy\")\n",
    "plt.plot(train_sizes, test_scores_mean, 'o-', color=\"g\", label=\"Cross-validation accuracy\")\n",
    "plt.xlabel(\"Number of training examples\")\n",
    "plt.ylabel(\"Accuracy\")\n",
    "plt.title(\"Learning Curve for Classification\")\n",
    "plt.legend(loc=\"best\")\n",
    "plt.show()"
   ]
  },
  {
   "cell_type": "code",
   "execution_count": 22,
   "metadata": {},
   "outputs": [],
   "source": [
    "ds = pd.read_csv('../data/variant_1.csv')\n",
    "\n",
    "train, new_input = train_test_split(ds, test_size=0.1, random_state=50)\n",
    "\n",
    "train.to_csv('../data/train.csv', index=False)\n",
    "new_input.to_csv('../data/new_input.csv', index=False)"
   ]
  }
 ],
 "metadata": {
  "kernelspec": {
   "display_name": "Python 3",
   "language": "python",
   "name": "python3"
  },
  "language_info": {
   "codemirror_mode": {
    "name": "ipython",
    "version": 3
   },
   "file_extension": ".py",
   "mimetype": "text/x-python",
   "name": "python",
   "nbconvert_exporter": "python",
   "pygments_lexer": "ipython3",
   "version": "3.12.2"
  }
 },
 "nbformat": 4,
 "nbformat_minor": 2
}
